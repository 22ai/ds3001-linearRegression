{
  "cells": [
    {
      "cell_type": "markdown",
      "id": "e0c7b14a-e5aa-4abc-b48b-b8a9d20dacac",
      "metadata": {
        "id": "e0c7b14a-e5aa-4abc-b48b-b8a9d20dacac"
      },
      "source": [
        "# Assignment: Linear Models\n",
        "## Foundations of Machine Learning\n",
        "## Do Q1 and one other question"
      ]
    },
    {
      "cell_type": "markdown",
      "id": "bf4826b0",
      "metadata": {
        "id": "bf4826b0"
      },
      "source": [
        "**Q0.** Please answer the following questions in your own words.\n",
        "\n",
        "1. What makes a model \"linear\"? \"Linear\" in what?\n",
        "2. How do you interpret the coefficient for a dummy/one-hot-encoded variable? (This is a trick question, and the trick involves how you handle the intercept of the model.)\n",
        "3. Can linear regression be used for classification? Explain why, or why not.\n",
        "4. What are signs that your linear model is over-fitting?\n",
        "5. Clearly explain multi-colinearity using the two-stage least squares technique.\n",
        "6. What are two ways to incorporate nonlinear relationships between your target/response/dependent/outcome variable $y$ and your features/control/response/independent variables $x$?\n",
        "7. What is the interpretation of the intercept? A slope coefficient for a variable? The coefficient for a dummy/one-hot-encoded variable?"
      ]
    },
    {
      "cell_type": "markdown",
      "id": "5a67af58",
      "metadata": {},
      "source": [
        "1. \n",
        "\n",
        "The linear part of linear models is that it makes a line (I assume using OLS) between each feature and the output variable. Then, it applies a weight (B0) to each feature to make a model (? I'm not familiar with linear algebra so don't get how this part works) that looks like $y = B0 + Bi * xi...$\n",
        "\n",
        "2. \n",
        "\n",
        "Interpreting the coefficient of a dummy variable depends on how it's encoded. It's essentially saying that if the dummy variable is true, then add the weight of the dummy variable to the prediction. For example, if the variable was encoded like (x = 1 if red and 0 otherwise), then the coefficient (B1) to the dummy variable (x) would mean being red is associated with a B1 increase in the output variable.\n",
        "\n",
        "3. \n",
        "\n",
        "Maybe technically but it doesn't make sense. Linear models are going to give a continuous output that won't track well to discrete classification. Wouldn't the model predict something like 0.7, which you would have to coerce to 1 (missing some variability in the process)?\n",
        "\n",
        "4. \n",
        "\n",
        "As you add features to the model, your r^2 should increase to a certain point--once r^2 starts decreasing, it's likely that the model is overfitting. I would imagine the model would score well on the training data but poorly on the test data.\n",
        "\n",
        "5. \n",
        "\n",
        "When two feature variables are correlated, it causes multi-colinearity, making it difficult to tell the effect of each variable. 2 stage least squares picks an instrumental variable, something that is correlated with one of the problematic x variables, but not the otuput variable, to solve this problem (this is the tricky part). You want to find something that only impacts the output variable through its effect on the problematic feature. For example, one model could predict the effect of class attendance and hours studied on test scores. If these two variables are correlated, then we could pick something like distance to campus to isolate the effect of class attendance, because it is correlated with both hours studied and class attendance but doesn't directly impact test scores. Then, you build a model (filtering or stage one) predicting the effect of distance to campus on hours studied. Now, the instrumental variable is predicted hours studied based on distance from campus. Then, in stage two, instead of using hours studied and attendance as features, you would use attendance and the instrumental variable, separating the correlation between distance and hours studied to only study their individual effects on test scores. Essentially, the IV filters out variation in hours based on attendance by taking into account the variance in hours studied that's explained only by distance from campus, not also by class attendance.\n",
        "\n",
        "6. \n",
        "\n",
        "Polynomial transformation or interaction effects\n",
        "\n",
        "7. \n",
        "\n",
        "Say $y = B0 + B1*x1$ + B2*x2$ where x1 is a continuous variable and x2 is a dummy variable\n",
        "\n",
        "Intercept: predicted value when x1 is 0 (this is only meaningful if 0 is a reasonable response for a x1--probably doesn't mean so much for some continuous variables, but for a dummy variable, B0 is the average y variable when x=0 or the dummy variable is not true)\n",
        "Slope coefficient: each one unit increase in x1 is associated with a B1 (the slope coefficient) increase in y\n",
        "Dummy variable coefficient: the dummy variable condition being true/x = 1 is associated with a B2 (the dummy variable coefficient) increase in y"
      ]
    },
    {
      "cell_type": "markdown",
      "id": "25bf83c6-ff44-42d6-9b33-8be1b945860d",
      "metadata": {
        "id": "25bf83c6-ff44-42d6-9b33-8be1b945860d"
      },
      "source": [
        "**Q1.** Load `./data/Q1_clean.csv`. The data include\n",
        "\n",
        "- `Price` per night\n",
        "- `Review Scores Rating`: The average rating for the property\n",
        "- `Neighbourhood `: The bourough of NYC. Note the space, or rename the variable.\n",
        "- `Property Type`: The kind of dwelling\n",
        "- `Room Type`: The kind of space being rented\n"
      ]
    },
    {
      "cell_type": "code",
      "execution_count": 72,
      "id": "186fc497",
      "metadata": {},
      "outputs": [],
      "source": [
        "import numpy as np\n",
        "import pandas as pd\n",
        "import matplotlib.pyplot as plt\n",
        "import seaborn as sns\n",
        "\n",
        "df = pd.read_csv('/Users/willmayer/Desktop/DS3001/ds3001-linearRegression/data/Q1_clean.csv',low_memory=False)"
      ]
    },
    {
      "cell_type": "markdown",
      "id": "9a8b99f7",
      "metadata": {},
      "source": [
        "1. Compute the average prices and scores by `Neighbourhood `; which bourough is the most expensive on average? Create a kernel density plot of price and log price, grouping by `Neighbourhood `."
      ]
    },
    {
      "cell_type": "code",
      "execution_count": 73,
      "id": "2a98eaf0",
      "metadata": {},
      "outputs": [],
      "source": [
        "df = df.rename(columns={'Neighbourhood ':'Neighbourhood'})"
      ]
    },
    {
      "cell_type": "code",
      "execution_count": 74,
      "id": "03aa8229",
      "metadata": {},
      "outputs": [
        {
          "name": "stdout",
          "output_type": "stream",
          "text": [
            "Neighbourhood\n",
            "Manhattan        183.664286\n",
            "Staten Island    146.166667\n",
            "Brooklyn         127.747378\n",
            "Queens            96.857233\n",
            "Bronx             75.276498\n",
            "Name: Price, dtype: float64 \n",
            "\n",
            "Neighbourhood\n",
            "Brooklyn         92.363497\n",
            "Manhattan        91.801496\n",
            "Bronx            91.654378\n",
            "Queens           91.549057\n",
            "Staten Island    90.843750\n",
            "Name: Review Scores Rating, dtype: float64\n"
          ]
        }
      ],
      "source": [
        "print(df.groupby('Neighbourhood')['Price'].mean().sort_values(ascending=False),'\\n')\n",
        "print(df.groupby('Neighbourhood')['Review Scores Rating'].mean().sort_values(ascending=False))"
      ]
    },
    {
      "cell_type": "markdown",
      "id": "b1293fe0",
      "metadata": {},
      "source": [
        "*Manhattan is the most expensive on average with price $183.66*"
      ]
    },
    {
      "cell_type": "code",
      "execution_count": 75,
      "id": "ec66ab29",
      "metadata": {},
      "outputs": [
        {
          "data": {
            "text/plain": [
              "<Axes: xlabel='Price', ylabel='Density'>"
            ]
          },
          "execution_count": 75,
          "metadata": {},
          "output_type": "execute_result"
        },
        {
          "data": {
            "image/png": "[encoded data removed]",
            "text/plain": [
              "<Figure size 640x480 with 1 Axes>"
            ]
          },
          "metadata": {},
          "output_type": "display_data"
        }
      ],
      "source": [
        "sns.kdeplot(df, x='Price', hue='Neighbourhood')"
      ]
    },
    {
      "cell_type": "code",
      "execution_count": 76,
      "id": "bcaeae67",
      "metadata": {},
      "outputs": [
        {
          "data": {
            "text/plain": [
              "<Axes: xlabel='pricex', ylabel='Density'>"
            ]
          },
          "execution_count": 76,
          "metadata": {},
          "output_type": "execute_result"
        },
        {
          "data": {
            "image/png": "[encoded data removed]",
            "text/plain": [
              "<Figure size 640x480 with 1 Axes>"
            ]
          },
          "metadata": {},
          "output_type": "display_data"
        }
      ],
      "source": [
        "df['pricex'] = np.log(df['Price'])\n",
        "sns.kdeplot(df, x='pricex', hue='Neighbourhood')"
      ]
    },
    {
      "cell_type": "markdown",
      "id": "af8a0462",
      "metadata": {},
      "source": [
        "2. Regress price on `Neighbourhood ` by creating the appropriate dummy/one-hot-encoded variables, without an intercept in the linear model and using all the data. Compare the coefficients in the regression to the table from part 1. What pattern do you see? What are the coefficients in a regression of a continuous variable on one categorical variable?"
      ]
    },
    {
      "cell_type": "code",
      "execution_count": 77,
      "id": "c04bcecc",
      "metadata": {},
      "outputs": [
        {
          "data": {
            "text/html": [
              "<div>\n",
              "<style scoped>\n",
              "    .dataframe tbody tr th:only-of-type {\n",
              "        vertical-align: middle;\n",
              "    }\n",
              "\n",
              "    .dataframe tbody tr th {\n",
              "        vertical-align: top;\n",
              "    }\n",
              "\n",
              "    .dataframe thead th {\n",
              "        text-align: right;\n",
              "    }\n",
              "</style>\n",
              "<table border=\"1\" class=\"dataframe\">\n",
              "  <thead>\n",
              "    <tr style=\"text-align: right;\">\n",
              "      <th></th>\n",
              "      <th>Neighbourhood</th>\n",
              "      <th>Coefficient</th>\n",
              "    </tr>\n",
              "  </thead>\n",
              "  <tbody>\n",
              "    <tr>\n",
              "      <th>0</th>\n",
              "      <td>Bronx</td>\n",
              "      <td>75.276498</td>\n",
              "    </tr>\n",
              "    <tr>\n",
              "      <th>1</th>\n",
              "      <td>Brooklyn</td>\n",
              "      <td>127.747378</td>\n",
              "    </tr>\n",
              "    <tr>\n",
              "      <th>2</th>\n",
              "      <td>Manhattan</td>\n",
              "      <td>183.664286</td>\n",
              "    </tr>\n",
              "    <tr>\n",
              "      <th>3</th>\n",
              "      <td>Queens</td>\n",
              "      <td>96.857233</td>\n",
              "    </tr>\n",
              "    <tr>\n",
              "      <th>4</th>\n",
              "      <td>Staten Island</td>\n",
              "      <td>146.166667</td>\n",
              "    </tr>\n",
              "  </tbody>\n",
              "</table>\n",
              "</div>"
            ],
            "text/plain": [
              "   Neighbourhood  Coefficient\n",
              "0          Bronx    75.276498\n",
              "1       Brooklyn   127.747378\n",
              "2      Manhattan   183.664286\n",
              "3         Queens    96.857233\n",
              "4  Staten Island   146.166667"
            ]
          },
          "execution_count": 77,
          "metadata": {},
          "output_type": "execute_result"
        }
      ],
      "source": [
        "import sklearn.linear_model\n",
        "\n",
        "y = df['Price']\n",
        "X = pd.get_dummies(df['Neighbourhood'], dtype=int)\n",
        "\n",
        "model = sklearn.linear_model.LinearRegression(fit_intercept=False).fit(X, y)\n",
        "\n",
        "results = {'Neighbourhood': X.columns, 'Coefficient': model.coef_}\n",
        "pd.DataFrame(results)"
      ]
    },
    {
      "cell_type": "markdown",
      "id": "333c07fb",
      "metadata": {},
      "source": [
        "*The coefficients are the same as the average prices for each neighbourhood. Because you're regressing price only based on neighborhood information, the model weights each prediction with all the information it has on the relationship between neighbourhood and price.*"
      ]
    },
    {
      "cell_type": "markdown",
      "id": "d5798eef",
      "metadata": {},
      "source": [
        "3. Repeat part 2, but leave an intercept in the linear model. How do you have to handle the creation of the dummies differently? What is the intercept? Interpret the coefficients. How can I get the coefficients in part 2 from these new coefficients?"
      ]
    },
    {
      "cell_type": "code",
      "execution_count": 78,
      "id": "7fd34058",
      "metadata": {},
      "outputs": [
        {
          "data": {
            "text/html": [
              "<div>\n",
              "<style scoped>\n",
              "    .dataframe tbody tr th:only-of-type {\n",
              "        vertical-align: middle;\n",
              "    }\n",
              "\n",
              "    .dataframe tbody tr th {\n",
              "        vertical-align: top;\n",
              "    }\n",
              "\n",
              "    .dataframe thead th {\n",
              "        text-align: right;\n",
              "    }\n",
              "</style>\n",
              "<table border=\"1\" class=\"dataframe\">\n",
              "  <thead>\n",
              "    <tr style=\"text-align: right;\">\n",
              "      <th></th>\n",
              "      <th>Neigbourhood:</th>\n",
              "      <th>Coefficient:</th>\n",
              "    </tr>\n",
              "  </thead>\n",
              "  <tbody>\n",
              "    <tr>\n",
              "      <th>0</th>\n",
              "      <td>Brooklyn</td>\n",
              "      <td>52.470881</td>\n",
              "    </tr>\n",
              "    <tr>\n",
              "      <th>1</th>\n",
              "      <td>Manhattan</td>\n",
              "      <td>108.387789</td>\n",
              "    </tr>\n",
              "    <tr>\n",
              "      <th>2</th>\n",
              "      <td>Queens</td>\n",
              "      <td>21.580735</td>\n",
              "    </tr>\n",
              "    <tr>\n",
              "      <th>3</th>\n",
              "      <td>Staten Island</td>\n",
              "      <td>70.890169</td>\n",
              "    </tr>\n",
              "  </tbody>\n",
              "</table>\n",
              "</div>"
            ],
            "text/plain": [
              "  Neigbourhood:   Coefficient: \n",
              "0       Brooklyn      52.470881\n",
              "1      Manhattan     108.387789\n",
              "2         Queens      21.580735\n",
              "3  Staten Island      70.890169"
            ]
          },
          "execution_count": 78,
          "metadata": {},
          "output_type": "execute_result"
        }
      ],
      "source": [
        "X = pd.get_dummies(df['Neighbourhood'], drop_first=True, dtype=int)\n",
        "model = sklearn.linear_model.LinearRegression().fit(X, y)\n",
        "results = {'Neigbourhood: ': X.columns, 'Coefficient: ': model.coef_}\n",
        "pd.DataFrame(results)"
      ]
    },
    {
      "cell_type": "markdown",
      "id": "2624f61f",
      "metadata": {},
      "source": [
        "*We've made the Bronx the intercept, so each coefficient is now the average increase in price for each neighbourhood relative to average price in the Bronx. For example, living in Manhaattan means you pay an average $108 higher than in the Bronx. To get the coefficient from part 2, you add the average price of the Bronx, or the Bronx's coefficient from step 2. The intercept of the model is the smae as the original coefficient for the Bronx from part 2.*"
      ]
    },
    {
      "cell_type": "code",
      "execution_count": 79,
      "id": "b24f2701",
      "metadata": {},
      "outputs": [
        {
          "data": {
            "text/plain": [
              "75.2764976958471"
            ]
          },
          "execution_count": 79,
          "metadata": {},
          "output_type": "execute_result"
        }
      ],
      "source": [
        "model.intercept_"
      ]
    },
    {
      "cell_type": "markdown",
      "id": "035e2b23",
      "metadata": {},
      "source": [
        "4. Split the sample 80/20 into a training and a test set. Run a regression of `Price` on `Review Scores Rating` and `Neighbourhood `. What is the $R^2$ and RMSE on the test set? What is the coefficient on `Review Scores Rating`? What is the most expensive kind of property you can rent?"
      ]
    },
    {
      "cell_type": "code",
      "execution_count": 80,
      "id": "430fa31f",
      "metadata": {},
      "outputs": [],
      "source": [
        "import sklearn.model_selection\n",
        "\n",
        "y = df['Price']\n",
        "X = df.loc[:,['Review Scores Rating', 'Neighbourhood']]\n",
        "\n",
        "X_train, X_test, y_train, y_test = sklearn.model_selection.train_test_split(X, y, test_size=.2, random_state=100)\n",
        "\n",
        "train_dummies = pd.get_dummies(X_train['Neighbourhood'], dtype='int')\n",
        "test_dummies = pd.get_dummies(X_test['Neighbourhood'], dtype='int')\n",
        "\n",
        "Z_train = pd.concat([X_train['Review Scores Rating'], train_dummies], axis=1)\n",
        "Z_test = pd.concat([X_test['Review Scores Rating'], test_dummies], axis=1)"
      ]
    },
    {
      "cell_type": "code",
      "execution_count": 81,
      "id": "647ff922",
      "metadata": {},
      "outputs": [
        {
          "name": "stdout",
          "output_type": "stream",
          "text": [
            "R-squared: 0.06701086106947252\n",
            "RMSE: 125.01092061382934\n"
          ]
        },
        {
          "data": {
            "text/html": [
              "<div>\n",
              "<style scoped>\n",
              "    .dataframe tbody tr th:only-of-type {\n",
              "        vertical-align: middle;\n",
              "    }\n",
              "\n",
              "    .dataframe tbody tr th {\n",
              "        vertical-align: top;\n",
              "    }\n",
              "\n",
              "    .dataframe thead th {\n",
              "        text-align: right;\n",
              "    }\n",
              "</style>\n",
              "<table border=\"1\" class=\"dataframe\">\n",
              "  <thead>\n",
              "    <tr style=\"text-align: right;\">\n",
              "      <th></th>\n",
              "      <th>Variable</th>\n",
              "      <th>Coefficient</th>\n",
              "    </tr>\n",
              "  </thead>\n",
              "  <tbody>\n",
              "    <tr>\n",
              "      <th>0</th>\n",
              "      <td>Review Scores Rating</td>\n",
              "      <td>1.032257</td>\n",
              "    </tr>\n",
              "    <tr>\n",
              "      <th>1</th>\n",
              "      <td>Bronx</td>\n",
              "      <td>-17.261392</td>\n",
              "    </tr>\n",
              "    <tr>\n",
              "      <th>2</th>\n",
              "      <td>Brooklyn</td>\n",
              "      <td>32.180888</td>\n",
              "    </tr>\n",
              "    <tr>\n",
              "      <th>3</th>\n",
              "      <td>Manhattan</td>\n",
              "      <td>89.421020</td>\n",
              "    </tr>\n",
              "    <tr>\n",
              "      <th>4</th>\n",
              "      <td>Queens</td>\n",
              "      <td>4.050208</td>\n",
              "    </tr>\n",
              "    <tr>\n",
              "      <th>5</th>\n",
              "      <td>Staten Island</td>\n",
              "      <td>61.576393</td>\n",
              "    </tr>\n",
              "  </tbody>\n",
              "</table>\n",
              "</div>"
            ],
            "text/plain": [
              "               Variable  Coefficient\n",
              "0  Review Scores Rating     1.032257\n",
              "1                 Bronx   -17.261392\n",
              "2              Brooklyn    32.180888\n",
              "3             Manhattan    89.421020\n",
              "4                Queens     4.050208\n",
              "5         Staten Island    61.576393"
            ]
          },
          "execution_count": 81,
          "metadata": {},
          "output_type": "execute_result"
        }
      ],
      "source": [
        "model = sklearn.linear_model.LinearRegression(fit_intercept=False)\n",
        "fitted = model.fit(Z_train, y_train)\n",
        "\n",
        "y_hat = fitted.predict(Z_test)\n",
        "print('R-squared:', fitted.score(Z_test, y_test))\n",
        "rmse = np.sqrt(np.mean((y_test - y_hat)**2))\n",
        "print('RMSE:', rmse)\n",
        "results = {'Variable': fitted.feature_names_in_, 'Coefficient': fitted.coef_}\n",
        "pd.DataFrame(results)"
      ]
    },
    {
      "cell_type": "markdown",
      "id": "6a8c819e",
      "metadata": {},
      "source": [
        "*Each point increase in rating is associataed with an average price increase of 1.03. The most expensive apartment you could rent is a top-rated (100/100) place in Manhattan*"
      ]
    },
    {
      "cell_type": "code",
      "execution_count": 82,
      "id": "69bd48fc",
      "metadata": {},
      "outputs": [
        {
          "name": "stdout",
          "output_type": "stream",
          "text": [
            "Most expensive place: 192.65\n"
          ]
        }
      ],
      "source": [
        "print('Most expensive place:', np.round(100*1.032257 + 89.421020,2))"
      ]
    },
    {
      "cell_type": "markdown",
      "id": "0460dd8d",
      "metadata": {},
      "source": [
        "5. Split the sample 80/20 into a training and a test set. Run a regression of `Price` on `Review Scores Rating` and `Neighbourhood ` and `Room Type`. What is the $R^2$ and RMSE on the test set? What is the coefficient on `Review Scores Rating`? What is the most expensive kind of property you can rent?"
      ]
    },
    {
      "cell_type": "code",
      "execution_count": 83,
      "id": "3768d5ed",
      "metadata": {},
      "outputs": [
        {
          "name": "stdout",
          "output_type": "stream",
          "text": [
            "R-squared: 0.2203534812928234\n",
            "RMSE: 114.27692123130632\n"
          ]
        },
        {
          "data": {
            "text/html": [
              "<div>\n",
              "<style scoped>\n",
              "    .dataframe tbody tr th:only-of-type {\n",
              "        vertical-align: middle;\n",
              "    }\n",
              "\n",
              "    .dataframe tbody tr th {\n",
              "        vertical-align: top;\n",
              "    }\n",
              "\n",
              "    .dataframe thead th {\n",
              "        text-align: right;\n",
              "    }\n",
              "</style>\n",
              "<table border=\"1\" class=\"dataframe\">\n",
              "  <thead>\n",
              "    <tr style=\"text-align: right;\">\n",
              "      <th></th>\n",
              "      <th>Variable</th>\n",
              "      <th>Coefficient</th>\n",
              "    </tr>\n",
              "  </thead>\n",
              "  <tbody>\n",
              "    <tr>\n",
              "      <th>0</th>\n",
              "      <td>Review Scores Rating</td>\n",
              "      <td>0.626912</td>\n",
              "    </tr>\n",
              "    <tr>\n",
              "      <th>1</th>\n",
              "      <td>Bronx</td>\n",
              "      <td>-13.022765</td>\n",
              "    </tr>\n",
              "    <tr>\n",
              "      <th>2</th>\n",
              "      <td>Brooklyn</td>\n",
              "      <td>10.378456</td>\n",
              "    </tr>\n",
              "    <tr>\n",
              "      <th>3</th>\n",
              "      <td>Manhattan</td>\n",
              "      <td>53.693304</td>\n",
              "    </tr>\n",
              "    <tr>\n",
              "      <th>4</th>\n",
              "      <td>Queens</td>\n",
              "      <td>-6.833330</td>\n",
              "    </tr>\n",
              "    <tr>\n",
              "      <th>5</th>\n",
              "      <td>Staten Island</td>\n",
              "      <td>50.003022</td>\n",
              "    </tr>\n",
              "    <tr>\n",
              "      <th>6</th>\n",
              "      <td>Entire home/apt</td>\n",
              "      <td>110.617820</td>\n",
              "    </tr>\n",
              "    <tr>\n",
              "      <th>7</th>\n",
              "      <td>Private room</td>\n",
              "      <td>3.101341</td>\n",
              "    </tr>\n",
              "    <tr>\n",
              "      <th>8</th>\n",
              "      <td>Shared room</td>\n",
              "      <td>-19.500474</td>\n",
              "    </tr>\n",
              "  </tbody>\n",
              "</table>\n",
              "</div>"
            ],
            "text/plain": [
              "               Variable  Coefficient\n",
              "0  Review Scores Rating     0.626912\n",
              "1                 Bronx   -13.022765\n",
              "2              Brooklyn    10.378456\n",
              "3             Manhattan    53.693304\n",
              "4                Queens    -6.833330\n",
              "5         Staten Island    50.003022\n",
              "6       Entire home/apt   110.617820\n",
              "7          Private room     3.101341\n",
              "8           Shared room   -19.500474"
            ]
          },
          "execution_count": 83,
          "metadata": {},
          "output_type": "execute_result"
        }
      ],
      "source": [
        "y = df['Price']\n",
        "X = df.loc[:, ['Review Scores Rating','Neighbourhood','Room Type']]\n",
        "X_train, X_test, y_train, y_test = sklearn.model_selection.train_test_split(X, y, test_size=.2, random_state=100)\n",
        "\n",
        "\n",
        "Z_train = pd.concat([\n",
        "    X_train['Review Scores Rating'],\n",
        "    pd.get_dummies(X_train['Neighbourhood'],dtype='int'),\n",
        "    pd.get_dummies(X_train['Room Type'], dtype='int')],\n",
        "    axis=1\n",
        ")\n",
        "\n",
        "Z_test = pd.concat([\n",
        "    X_test['Review Scores Rating'],\n",
        "    pd.get_dummies(X_test['Neighbourhood'],dtype='int'),\n",
        "    pd.get_dummies(X_test['Room Type'],dtype='int')],\n",
        "    axis=1\n",
        ")\n",
        "\n",
        "model = sklearn.linear_model.LinearRegression(fit_intercept=False)\n",
        "fitted = model.fit(Z_train, y_train)\n",
        "y_hat = fitted.predict(Z_test)\n",
        "print('R-squared:', fitted.score(Z_test, y_test))\n",
        "rmse = np.sqrt(np.mean((y_test-y_hat)**2))\n",
        "print('RMSE:', rmse)\n",
        "results = {'Variable':fitted.feature_names_in_, 'Coefficient': fitted.coef_}\n",
        "pd.DataFrame(results)"
      ]
    },
    {
      "cell_type": "markdown",
      "id": "473f087f",
      "metadata": {},
      "source": [
        "*Now that we've added the home type, the review scores rating is less strong of a predictor, indicating score could have masked variance in room type. The new most expensive house is a 100-rated entire home/apt in Manhattan, but the location and rating now contirbute less to the average increase.*"
      ]
    },
    {
      "cell_type": "code",
      "execution_count": 84,
      "id": "6d796983",
      "metadata": {},
      "outputs": [
        {
          "name": "stdout",
          "output_type": "stream",
          "text": [
            "Most expensive: place 227.0\n"
          ]
        }
      ],
      "source": [
        "print('Most expensive: place', np.round(0.626912*100 + 110.617820 + 53.693304, 2 ))"
      ]
    },
    {
      "cell_type": "markdown",
      "id": "73c0bf95",
      "metadata": {},
      "source": [
        "6. What does the coefficient on `Review Scores Rating` mean if it changes from part 4 to 5? Hint: Think about how multilple linear regression works."
      ]
    },
    {
      "cell_type": "markdown",
      "id": "ee8b31df",
      "metadata": {},
      "source": [
        "*Like I mentioned above, score might be an endogenous variable to room type and price (it could be correlated possitively both with better room types and higher prices.) In the earlier model, without considering room type, variance in price was attributed to ratings increases. However, considering both ratings and room type, room type is the stronger predictor. Because room rating and type are correlated, variance in price was understood to be caused by variance in rating, but it was actually variance in room type.*"
      ]
    },
    {
      "cell_type": "markdown",
      "id": "bdb02c30",
      "metadata": {},
      "source": [
        "7. (Optional) We've included `Neighborhood ` and `Room Type` separately in the model. How do you interact them, so you can have \"A bedroom in Queens\" or \"A shared room in Manhattan\". Split the sample 80/20 into a training and a test set and run a regression including that kind of \"property type X neighborhood\" dummy, plus `Review Scores Rating`. How does the slope coefficient for `Review Scores Rating`, the $R^2$, and the RMSE change? Do they change significantly compares to part 5? Are the coefficients in this regression just the sum of the coefficients for `Neighbourhood ` and `Property Type` from 5? What is the most expensive kind of property you can rent? "
      ]
    },
    {
      "cell_type": "code",
      "execution_count": 85,
      "id": "bb364808",
      "metadata": {},
      "outputs": [
        {
          "name": "stdout",
          "output_type": "stream",
          "text": [
            "R-squared: 0.2227250747073216\n",
            "RMSE: 114.1029803472431\n"
          ]
        },
        {
          "data": {
            "text/html": [
              "<div>\n",
              "<style scoped>\n",
              "    .dataframe tbody tr th:only-of-type {\n",
              "        vertical-align: middle;\n",
              "    }\n",
              "\n",
              "    .dataframe tbody tr th {\n",
              "        vertical-align: top;\n",
              "    }\n",
              "\n",
              "    .dataframe thead th {\n",
              "        text-align: right;\n",
              "    }\n",
              "</style>\n",
              "<table border=\"1\" class=\"dataframe\">\n",
              "  <thead>\n",
              "    <tr style=\"text-align: right;\">\n",
              "      <th></th>\n",
              "      <th>Variable</th>\n",
              "      <th>Coefficient</th>\n",
              "    </tr>\n",
              "  </thead>\n",
              "  <tbody>\n",
              "    <tr>\n",
              "      <th>0</th>\n",
              "      <td>Review Scores Rating</td>\n",
              "      <td>0.631849</td>\n",
              "    </tr>\n",
              "    <tr>\n",
              "      <th>1</th>\n",
              "      <td>Bronx: Entire home/apt</td>\n",
              "      <td>63.133021</td>\n",
              "    </tr>\n",
              "    <tr>\n",
              "      <th>2</th>\n",
              "      <td>Bronx: Private room</td>\n",
              "      <td>3.736301</td>\n",
              "    </tr>\n",
              "    <tr>\n",
              "      <th>3</th>\n",
              "      <td>Bronx: Shared room</td>\n",
              "      <td>-21.278036</td>\n",
              "    </tr>\n",
              "    <tr>\n",
              "      <th>4</th>\n",
              "      <td>Brooklyn: Entire home/apt</td>\n",
              "      <td>113.784926</td>\n",
              "    </tr>\n",
              "    <tr>\n",
              "      <th>5</th>\n",
              "      <td>Brooklyn: Private room</td>\n",
              "      <td>20.579025</td>\n",
              "    </tr>\n",
              "    <tr>\n",
              "      <th>6</th>\n",
              "      <td>Brooklyn: Shared room</td>\n",
              "      <td>-3.210858</td>\n",
              "    </tr>\n",
              "    <tr>\n",
              "      <th>7</th>\n",
              "      <td>Manhattan: Entire home/apt</td>\n",
              "      <td>169.494389</td>\n",
              "    </tr>\n",
              "    <tr>\n",
              "      <th>8</th>\n",
              "      <td>Manhattan: Private room</td>\n",
              "      <td>45.531833</td>\n",
              "    </tr>\n",
              "    <tr>\n",
              "      <th>9</th>\n",
              "      <td>Manhattan: Shared room</td>\n",
              "      <td>24.553861</td>\n",
              "    </tr>\n",
              "    <tr>\n",
              "      <th>10</th>\n",
              "      <td>Queens: Entire home/apt</td>\n",
              "      <td>81.969775</td>\n",
              "    </tr>\n",
              "    <tr>\n",
              "      <th>11</th>\n",
              "      <td>Queens: Private room</td>\n",
              "      <td>11.532383</td>\n",
              "    </tr>\n",
              "    <tr>\n",
              "      <th>12</th>\n",
              "      <td>Queens: Shared room</td>\n",
              "      <td>-8.604634</td>\n",
              "    </tr>\n",
              "    <tr>\n",
              "      <th>13</th>\n",
              "      <td>Staten Island: Entire home/apt</td>\n",
              "      <td>234.958943</td>\n",
              "    </tr>\n",
              "    <tr>\n",
              "      <th>14</th>\n",
              "      <td>Staten Island: Private room</td>\n",
              "      <td>-1.254755</td>\n",
              "    </tr>\n",
              "  </tbody>\n",
              "</table>\n",
              "</div>"
            ],
            "text/plain": [
              "                          Variable  Coefficient\n",
              "0             Review Scores Rating     0.631849\n",
              "1           Bronx: Entire home/apt    63.133021\n",
              "2              Bronx: Private room     3.736301\n",
              "3               Bronx: Shared room   -21.278036\n",
              "4        Brooklyn: Entire home/apt   113.784926\n",
              "5           Brooklyn: Private room    20.579025\n",
              "6            Brooklyn: Shared room    -3.210858\n",
              "7       Manhattan: Entire home/apt   169.494389\n",
              "8          Manhattan: Private room    45.531833\n",
              "9           Manhattan: Shared room    24.553861\n",
              "10         Queens: Entire home/apt    81.969775\n",
              "11            Queens: Private room    11.532383\n",
              "12             Queens: Shared room    -8.604634\n",
              "13  Staten Island: Entire home/apt   234.958943\n",
              "14     Staten Island: Private room    -1.254755"
            ]
          },
          "execution_count": 85,
          "metadata": {},
          "output_type": "execute_result"
        }
      ],
      "source": [
        "y = df['Price']\n",
        "df['nXrt'] = df['Neighbourhood'] + ': ' + df['Room Type']\n",
        "X = df.loc[:,['Review Scores Rating', 'nXrt']]\n",
        "\n",
        "X_train, X_test, y_train, y_test = sklearn.model_selection.train_test_split(X, y, test_size=.2, random_state=100)\n",
        "\n",
        "\n",
        "Z_train = pd.concat([\n",
        "    X_train['Review Scores Rating'],\n",
        "    pd.get_dummies(X_train['nXrt'], dtype='int')],\n",
        "    axis=1\n",
        ")\n",
        "\n",
        "Z_test = pd.concat([\n",
        "    X_test['Review Scores Rating'],\n",
        "    pd.get_dummies(X_test['nXrt'], dtype='int')],\n",
        "    axis=1\n",
        ")\n",
        "\n",
        "model = sklearn.linear_model.LinearRegression(fit_intercept=False)\n",
        "fitted = model.fit(Z_train, y_train)\n",
        "y_hat = fitted.predict(Z_test)\n",
        "print('R-squared:', fitted.score(Z_test, y_test))\n",
        "rmse = np.sqrt(np.mean((y_test-y_hat)**2))\n",
        "print('RMSE:', rmse)\n",
        "results = {'Variable':fitted.feature_names_in_, 'Coefficient':model.coef_}\n",
        "pd.DataFrame(results)"
      ]
    },
    {
      "cell_type": "markdown",
      "id": "95f22300-0180-4ed2-be8f-ed56cf4cd36b",
      "metadata": {
        "id": "95f22300-0180-4ed2-be8f-ed56cf4cd36b"
      },
      "source": [
        "**Q2.** This question is a case study for linear models. The data are about car prices. In particular, they include:\n",
        "\n",
        "  - `Price`, `Color`, `Seating_Capacity`\n",
        "  - `Body_Type`: crossover, hatchback, muv, sedan, suv\n",
        "  - `Make`, `Make_Year`: The brand of car and year produced\n",
        "  - `Mileage_Run`: The number of miles on the odometer\n",
        "  - `Fuel_Type`: Diesel or gasoline/petrol\n",
        "  - `Transmission`, `Transmission_Type`:  speeds and automatic/manual\n",
        "\n",
        "  1. Load `cars_hw.csv`. These data were really dirty, and I've already cleaned them a significant amount in terms of missing values and other issues, but some issues remain (e.g. outliers, badly scaled variables that require a log or arcsinh transformation). Clean the data however you think is most appropriate.\n",
        "  2. Summarize the `Price` variable and create a kernel density plot. Use `.groupby()` and `.describe()` to summarize prices by brand (`Make`). Make a grouped kernel density plot by `Make`. Which car brands are the most expensive? What do prices look like in general?\n",
        "  3. Split the data into an 80% training set and a 20% testing set.\n",
        "  4. Make a model where you regress price on the numeric variables alone; what is the $R^2$ and `RMSE` on the training set and test set? Make a second model where, for the categorical variables, you regress price on a model comprised of one-hot encoded regressors/features alone (you can use `pd.get_dummies()`; be careful of the dummy variable trap); what is the $R^2$ and `RMSE` on the test set? Which model performs better on the test set? Make a third model that combines all the regressors from the previous two; what is the $R^2$ and `RMSE` on the test set? Does the joint model perform better or worse, and by home much?\n",
        "  5. Use the `PolynomialFeatures` function from `sklearn` to expand the set of numerical variables you're using in the regression. As you increase the degree of the expansion, how do the $R^2$ and `RMSE` change? At what point does $R^2$ go negative on the test set? For your best model with expanded features, what is the $R^2$ and `RMSE`? How does it compare to your best model from part 4?\n",
        "  6. For your best model so far, determine the predicted values for the test data and plot them against the true values. Do the predicted values and true values roughly line up along the diagonal, or not? Compute the residuals/errors for the test data and create a kernel density plot. Do the residuals look roughly bell-shaped around zero? Evaluate the strengths and weaknesses of your model."
      ]
    },
    {
      "cell_type": "markdown",
      "id": "7bd15c6b-4c7c-4230-a199-e03e1054ec6a",
      "metadata": {
        "id": "7bd15c6b-4c7c-4230-a199-e03e1054ec6a"
      },
      "source": [
        "**Q3.** This is a question about linear regression. The outcome is whether a defendant is held pre-trial in the Virginia justice system. We would like to understand how that outcome is predicted by characteristics of the defendant, particularly race. Let's be very careful/clear: We aren't saying anyone *should* be held without bond or asserting that people with different demographic variables *should* be more likely to be held, but instead trying to predict whether people with different characteristics *are empirically more likely* to be held without bond, given the available information. This is the first step we would take in investigating whether a system is fair, or how large the disparities are: Does it treat people with similar observable characteristics similarly, or not? We are going to look at a common question: Are Black defendants treated differently from white or Asian ones? (There are Native American defendants, but there are 11 in total, which is such a small number of observations that is difficult to clearly say anything about how this group is treated relative to the others.)\n",
        "\n",
        "The variables in the data are:\n",
        "\n",
        "  - `held_wo_bail`: Whether a defendant is held without bail before trial (Boolean logical)\n",
        "  - `race`, `sex`: Categorical demographic variables\n",
        "  - `is_poor`: Whether the defendant is classified as indigent\n",
        "  - `prior_F`, `prior_M`: The number of prior felony and misdemeanor arrests\n",
        "  - `case_type`: A categorical variable indicating a misdemeanor `M` or felony `F` or infraction `I` or special case `S`\n",
        "  - `age`: Defendant's age\n",
        "  - `bond`, `bond_NA`, `bond_type`: The amount of any bond, whether it is missing, and the type\n",
        "  - `sentence`, `sentence_NA`, `sentence_type`: The length of any sentence, whether it is missing, and the type\n",
        "\n",
        "1. Load the `pretrial_data.csv` data. Notice that there are `nan`s, but the data are relatively clean. Because there are `.nan`s among variables you won't use, you'll want to narrow down your analysis to the relevant variables before dropping or imputing missing values.\n",
        "2. Create a dummy variable indicating that the defendant is Black.\n",
        "3. Regress `held` on `Black`. What is the slope coefficient Interpret the coefficient on the Black dummy variable: How much more likely is a black person to be held without bail? What is the $R^2$ of the model?\n",
        "4. Before doing this question, please think for a few minutes about how to make the process of running the following regressions as efficient as possible, before jumping into writing code. Repeat part 2, for the following specifications, keeping track of the coefficient on the Black dummy variable each time:\n",
        "      - `held` on `Black` and `sex`\n",
        "      - `held` on `Black` and `sex` and `is_poor`\n",
        "      - `held` on `Black` and `sex` and `is_poor` and `prior_F`\n",
        "      - `held` on `Black` and `sex` and `is_poor` and `prior_F` and `case_type`\n",
        "What happens to the coefficient on the Black dummy variable as you include more regressors/features/controls in the regression? Explain your findings.\n",
        "5. Suppose we don't want to see just `Black` and `sex`, but `Black` interacted with `sex`: Are Black men and Black women treated systemically differently from the rest of the population? Implement this in a regression, and explain your findings.\n",
        "6. Imagine someone argued we should use these kinds of models to help a judge or magistrate make bail decisions (you could obviously go back and make this kind of model for the bond and sentence variables, then deploy it on new cases to predict what their bond and sentence values would be). What concerns would you have? Do you think society should be using data-driven and automated tools like that? Explain your concerns clearly."
      ]
    },
    {
      "cell_type": "markdown",
      "id": "d0bedb79-b3d9-4db3-9b30-b92c9b618cec",
      "metadata": {
        "id": "d0bedb79-b3d9-4db3-9b30-b92c9b618cec"
      },
      "source": [
        "**Q4.** This is a math question to review the derivation of the OLS estimator (but only if you are into that kind of thing!). We are going to do it slightly differently from what we did in class, though. We will use a linear predictor and minimize the Sum of Squared Errors, just as in class. But, we are going to de-mean $X$ first, creating another variable $z_i = x_i - \\bar{x}$ where\n",
        "$$\n",
        "\\bar{x} = \\dfrac{1}{N} \\sum_{i=1}^N x_i,\n",
        "$$\n",
        "so the model is $\\hat{y}_i = a + b z_i$ and the `SSE` is\n",
        "$$\n",
        "\\text{SSE}(a,b) = \\sum_{i=1}^N (y_i - a - bz_i)^2.\n",
        "$$\n",
        "\n",
        "  1. Take partial derivatives of the `SSE` with respect to $a$ and $b$. You should get\n",
        "\n",
        "\\begin{alignat*}{3}\n",
        "\\sum_{i=1}^N -2(y_i - a- bz_i) &=& 0 \\\\\n",
        "\\sum_{i=1}^N -2(y_i - a - bz_i)z_i &=& 0.\n",
        "\\end{alignat*}\n",
        "\n",
        "  2. Solve for the solutions to the above equations. Big hint: $\\bar{z} = 0$, since we subtracted the mean of $x$ from $x$ to get $z$. You should get\n",
        "\n",
        "\\begin{alignat*}{3}\n",
        "a^* &=& \\bar{y} \\\\\n",
        "b^* &=& \\dfrac{\\sum_{i=1}^N(y_i - \\bar{y})z_i}{\\sum_{i=1}^N z_i^2}.\n",
        "\\end{alignat*}\n",
        "\n",
        "  3. Substitute $z_i = x_i - \\bar{x}$ back into the above equations. You should get\n",
        "  \n",
        "\\begin{alignat*}{3}\n",
        "a^* &=& \\bar{y} \\\\\n",
        "b^* &=& \\dfrac{\\sum_{i=1}^N(y_i - \\bar{y})(x_i-\\bar{x})}{\\sum_{i=1}^N (x_i-\\bar{x})^2},\n",
        "\\end{alignat*}\n",
        "\n",
        "which can be written in terms of sample covariance and sample variance as:\n",
        "\n",
        "\\begin{alignat*}{3}\n",
        "a^* &=& \\bar{y} \\\\\n",
        "b^* &=& \\dfrac{\\text{cov}(x,y)}{\\text{var}(x)}.\n",
        "\\end{alignat*}\n",
        "\n",
        "This is typically the preferred way of expressing the OLS coefficients.\n",
        "\n",
        "4. When will $b^*$ be large or small, depending on the relationship between $x$ and $y$ and the amount of \"noise\"/variance in $x$? What does $a^*$ represent?\n",
        "5. Suppose you have measurement error in $x$ which artificially inflates its variance (e.g. bad data cleaning). What happens to the $b^*$ coefficient? How will affect your ability to predict? (This phenomenon is called **attenuation**.)"
      ]
    },
    {
      "cell_type": "markdown",
      "id": "b67478ac-ad78-4a44-9720-583c71b8da14",
      "metadata": {
        "id": "b67478ac-ad78-4a44-9720-583c71b8da14"
      },
      "source": [
        "**Q5.**\n",
        "1. Find a dataset on a topic you're interested in. Some easy options are data.gov, kaggle.com, and data.world.\n",
        "2. Clean the data and do some exploratory data analysis on key variables that interest you. Pick a particular target/outcome variable and features/predictors.\n",
        "3. Split the sample into an ~80% training set and a ~20% test set.\n",
        "4. Run a few regressions of your target/outcome variable on a variety of features/predictors. Compute the SSE on the test set.\n",
        "5. Which model performed the best, and why?\n",
        "6. What did you learn?"
      ]
    }
  ],
  "metadata": {
    "colab": {
      "provenance": []
    },
    "kernelspec": {
      "display_name": "myenv",
      "language": "python",
      "name": "python3"
    },
    "language_info": {
      "codemirror_mode": {
        "name": "ipython",
        "version": 3
      },
      "file_extension": ".py",
      "mimetype": "text/x-python",
      "name": "python",
      "nbconvert_exporter": "python",
      "pygments_lexer": "ipython3",
      "version": "3.9.18"
    }
  },
  "nbformat": 4,
  "nbformat_minor": 5
}
